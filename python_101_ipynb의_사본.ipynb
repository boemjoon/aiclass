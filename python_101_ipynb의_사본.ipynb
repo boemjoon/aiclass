{
  "cells": [
    {
      "cell_type": "markdown",
      "metadata": {
        "id": "view-in-github",
        "colab_type": "text"
      },
      "source": [
        "<a href=\"https://colab.research.google.com/github/boemjoon/aiclass/blob/main/python_101_ipynb%EC%9D%98_%EC%82%AC%EB%B3%B8.ipynb\" target=\"_parent\"><img src=\"https://colab.research.google.com/assets/colab-badge.svg\" alt=\"Open In Colab\"/></a>"
      ]
    },
    {
      "cell_type": "markdown",
      "metadata": {
        "id": "XEU4LlFYq_8C"
      },
      "source": [
        "# Python 101\n",
        "\n",
        "This is an optional notebook to get you up to speed with Python in case you are new to Python or need a refresher. The material here is a crash course in Python; I highly recommend the [official Python tutorial](https://docs.python.org/3/tutorial/) for a deeper dive. Consider reading [this page](https://docs.python.org/3/tutorial/appetite.html) in the Python docs for background on Python and bookmarking the [glossary](https://docs.python.org/3/glossary.html#glossary).\n",
        "\n",
        "## Basic data types\n",
        "### Numbers\n",
        "Numbers in Python can be represented as integers (e.g. `5`) or floats (e.g. `5.0`). We can perform operations on them:"
      ]
    },
    {
      "cell_type": "code",
      "source": [],
      "metadata": {
        "id": "GQPL1xmXrMTV"
      },
      "execution_count": null,
      "outputs": []
    },
    {
      "cell_type": "code",
      "execution_count": null,
      "metadata": {
        "id": "Y4dLrUTyq_8G",
        "outputId": "accad997-738b-4ce1-b195-43a599920611"
      },
      "outputs": [
        {
          "data": {
            "text/plain": [
              "11"
            ]
          },
          "execution_count": 1,
          "metadata": {},
          "output_type": "execute_result"
        }
      ],
      "source": [
        "5 + 6"
      ]
    },
    {
      "cell_type": "code",
      "execution_count": null,
      "metadata": {
        "id": "1EJLsyoGq_8I",
        "outputId": "4f8f821e-59d8-4c13-d8bd-6d3acd6e8354"
      },
      "outputs": [
        {
          "data": {
            "text/plain": [
              "0.8333333333333334"
            ]
          },
          "execution_count": 2,
          "metadata": {},
          "output_type": "execute_result"
        }
      ],
      "source": [
        "2.5 / 3"
      ]
    },
    {
      "cell_type": "markdown",
      "metadata": {
        "id": "II4aoRgVq_8I"
      },
      "source": [
        "### Booleans\n",
        "\n",
        "We can check for equality giving us a Boolean:"
      ]
    },
    {
      "cell_type": "code",
      "execution_count": null,
      "metadata": {
        "id": "kalCdTDeq_8J",
        "outputId": "79e245be-b081-4883-b496-9fa9eae5ea23"
      },
      "outputs": [
        {
          "data": {
            "text/plain": [
              "False"
            ]
          },
          "execution_count": 3,
          "metadata": {},
          "output_type": "execute_result"
        }
      ],
      "source": [
        "5 == 6"
      ]
    },
    {
      "cell_type": "code",
      "execution_count": null,
      "metadata": {
        "id": "gJ6gALxTq_8J",
        "outputId": "e13244f8-649e-4633-d6b8-4220cb8c5c0c"
      },
      "outputs": [
        {
          "data": {
            "text/plain": [
              "True"
            ]
          },
          "execution_count": 4,
          "metadata": {},
          "output_type": "execute_result"
        }
      ],
      "source": [
        "5 < 6"
      ]
    },
    {
      "cell_type": "markdown",
      "metadata": {
        "id": "wDjG6qVEq_8K"
      },
      "source": [
        "These statements can be combined with logical operators: `not`, `and`, `or`"
      ]
    },
    {
      "cell_type": "code",
      "execution_count": null,
      "metadata": {
        "id": "BPdNtBeSq_8K",
        "outputId": "e5f738bf-ae02-42c9-d5fc-d865627055c0"
      },
      "outputs": [
        {
          "data": {
            "text/plain": [
              "True"
            ]
          },
          "execution_count": 5,
          "metadata": {},
          "output_type": "execute_result"
        }
      ],
      "source": [
        "(5 < 6) and not (5 == 6)"
      ]
    },
    {
      "cell_type": "code",
      "execution_count": null,
      "metadata": {
        "id": "I9vO5aq1q_8L",
        "outputId": "e461e05e-4a76-495e-ac6d-eb1712a283a8"
      },
      "outputs": [
        {
          "data": {
            "text/plain": [
              "True"
            ]
          },
          "execution_count": 6,
          "metadata": {},
          "output_type": "execute_result"
        }
      ],
      "source": [
        "False or True"
      ]
    },
    {
      "cell_type": "code",
      "execution_count": null,
      "metadata": {
        "id": "5c8Es2odq_8L",
        "outputId": "a8a08eea-c962-4ce4-bfaf-817a6e146656"
      },
      "outputs": [
        {
          "data": {
            "text/plain": [
              "True"
            ]
          },
          "execution_count": 7,
          "metadata": {},
          "output_type": "execute_result"
        }
      ],
      "source": [
        "True or False"
      ]
    },
    {
      "cell_type": "markdown",
      "metadata": {
        "id": "c7jG6Va1q_8L"
      },
      "source": [
        "### Strings\n",
        "Using strings, we can handle text in Python. These values must be surrounded in quotes &mdash; single (`'...'`) is the standard, but double (`\"...\"`) works as well:"
      ]
    },
    {
      "cell_type": "code",
      "execution_count": null,
      "metadata": {
        "id": "M95SNqONq_8M",
        "outputId": "c2ca2dff-abc0-48fd-9d5d-e699b9b34e50"
      },
      "outputs": [
        {
          "data": {
            "text/plain": [
              "'hello'"
            ]
          },
          "execution_count": 8,
          "metadata": {},
          "output_type": "execute_result"
        }
      ],
      "source": [
        "'hello'"
      ]
    },
    {
      "cell_type": "markdown",
      "metadata": {
        "id": "alnO7o6Dq_8M"
      },
      "source": [
        "We can also perform operations on strings. For example, we can see how long it is with `len()`:"
      ]
    },
    {
      "cell_type": "code",
      "execution_count": null,
      "metadata": {
        "id": "K57gx97Jq_8M",
        "outputId": "bbe78bae-e536-465a-af37-7fbabe330acb"
      },
      "outputs": [
        {
          "data": {
            "text/plain": [
              "5"
            ]
          },
          "execution_count": 9,
          "metadata": {},
          "output_type": "execute_result"
        }
      ],
      "source": [
        "len('hello')"
      ]
    },
    {
      "cell_type": "markdown",
      "metadata": {
        "id": "pM5wHNWdq_8M"
      },
      "source": [
        "We can select parts of the string by specifying the **index**. Note that in Python the 1<sup>st</sup> character is at index 0:"
      ]
    },
    {
      "cell_type": "code",
      "execution_count": null,
      "metadata": {
        "id": "9cWJ-2C0q_8N",
        "outputId": "8a16b00d-7b9e-4632-babe-91dba0d2158d"
      },
      "outputs": [
        {
          "data": {
            "text/plain": [
              "'h'"
            ]
          },
          "execution_count": 10,
          "metadata": {},
          "output_type": "execute_result"
        }
      ],
      "source": [
        "'hello'[0]"
      ]
    },
    {
      "cell_type": "markdown",
      "metadata": {
        "id": "euqlTuLkq_8N"
      },
      "source": [
        "We can concatentate strings with `+`:"
      ]
    },
    {
      "cell_type": "code",
      "execution_count": null,
      "metadata": {
        "id": "5g8x7pjmq_8N",
        "outputId": "f15c60d0-f25c-4dfd-f4d5-30a3cbddc7a5"
      },
      "outputs": [
        {
          "data": {
            "text/plain": [
              "'hello world'"
            ]
          },
          "execution_count": 11,
          "metadata": {},
          "output_type": "execute_result"
        }
      ],
      "source": [
        "'hello' + ' ' + 'world'"
      ]
    },
    {
      "cell_type": "markdown",
      "metadata": {
        "id": "n0VY5uA2q_8N"
      },
      "source": [
        "We can check if characters are in the string with the `in` operator:"
      ]
    },
    {
      "cell_type": "code",
      "execution_count": null,
      "metadata": {
        "id": "3GN1R4mHq_8N",
        "outputId": "40e02672-cf1c-43e3-be69-9178f1f21b91"
      },
      "outputs": [
        {
          "data": {
            "text/plain": [
              "True"
            ]
          },
          "execution_count": 12,
          "metadata": {},
          "output_type": "execute_result"
        }
      ],
      "source": [
        "'h' in 'hello'"
      ]
    },
    {
      "cell_type": "markdown",
      "metadata": {
        "id": "uQRJncvvq_8N"
      },
      "source": [
        "## Variables\n",
        "Notice that just typing text causes an error. Errors in Python attempt to clue us in to what went wrong with our code. In this case, we have a `NameError` exception which tells us that `'hello'` is not defined. This means that [the Python interpreter](https://docs.python.org/3/tutorial/interpreter.html) looked for a **variable** named `hello`, but it didn't find one."
      ]
    },
    {
      "cell_type": "code",
      "execution_count": null,
      "metadata": {
        "id": "XglcFp2wq_8O",
        "outputId": "946ff921-59bc-4c03-8ee0-07c6acb06996"
      },
      "outputs": [
        {
          "ename": "NameError",
          "evalue": "name 'hello' is not defined",
          "output_type": "error",
          "traceback": [
            "\u001b[0;31m---------------------------------------------------------------------------\u001b[0m",
            "\u001b[0;31mNameError\u001b[0m                                 Traceback (most recent call last)",
            "\u001b[0;32m<ipython-input-13-f572d396fae9>\u001b[0m in \u001b[0;36m<module>\u001b[0;34m\u001b[0m\n\u001b[0;32m----> 1\u001b[0;31m \u001b[0mhello\u001b[0m\u001b[0;34m\u001b[0m\u001b[0;34m\u001b[0m\u001b[0m\n\u001b[0m",
            "\u001b[0;31mNameError\u001b[0m: name 'hello' is not defined"
          ]
        }
      ],
      "source": [
        "hello"
      ]
    },
    {
      "cell_type": "markdown",
      "metadata": {
        "id": "6PDeD7qSq_8O"
      },
      "source": [
        "Variables give us a way to store data types. We define a variable using the `variable_name = value` syntax:"
      ]
    },
    {
      "cell_type": "code",
      "execution_count": null,
      "metadata": {
        "id": "epg1vgIKq_8O",
        "outputId": "b75e2bed-f537-406b-8ff6-5e9f2c86456a"
      },
      "outputs": [
        {
          "data": {
            "text/plain": [
              "12"
            ]
          },
          "execution_count": 14,
          "metadata": {},
          "output_type": "execute_result"
        }
      ],
      "source": [
        "x = 5\n",
        "y = 7\n",
        "x + y"
      ]
    },
    {
      "cell_type": "markdown",
      "metadata": {
        "id": "KHeB0ML0q_8O"
      },
      "source": [
        "The variable name cannot contain spaces; we usually use `_` instead. The best variable names are descriptive ones:"
      ]
    },
    {
      "cell_type": "code",
      "execution_count": null,
      "metadata": {
        "id": "u6R1W9pOq_8O"
      },
      "outputs": [],
      "source": [
        "book_title = 'Hands-On Data Analysis with Pandas'"
      ]
    },
    {
      "cell_type": "markdown",
      "metadata": {
        "id": "vA6OUXrxq_8O"
      },
      "source": [
        "Variables can be any data type. We can check which one it is with `type()`, which is a **function** (more on that later):"
      ]
    },
    {
      "cell_type": "code",
      "execution_count": null,
      "metadata": {
        "id": "JVg2fq7Hq_8P",
        "outputId": "736f236d-763f-472f-a32a-a104842c6952"
      },
      "outputs": [
        {
          "data": {
            "text/plain": [
              "int"
            ]
          },
          "execution_count": 16,
          "metadata": {},
          "output_type": "execute_result"
        }
      ],
      "source": [
        "type(x)"
      ]
    },
    {
      "cell_type": "code",
      "execution_count": null,
      "metadata": {
        "id": "_vr3Qe0Nq_8P",
        "outputId": "f35c1154-dbec-4e65-f541-358bd4a4b1ff"
      },
      "outputs": [
        {
          "data": {
            "text/plain": [
              "str"
            ]
          },
          "execution_count": 17,
          "metadata": {},
          "output_type": "execute_result"
        }
      ],
      "source": [
        "type(book_title)"
      ]
    },
    {
      "cell_type": "markdown",
      "metadata": {
        "id": "P7itRdcoq_8P"
      },
      "source": [
        "If we need to see the value of a variable, we can print it using the `print()` function:"
      ]
    },
    {
      "cell_type": "code",
      "execution_count": null,
      "metadata": {
        "id": "fIcvTn1Sq_8P",
        "outputId": "c2abf601-7dc7-4bcc-802e-911b08d1100d"
      },
      "outputs": [
        {
          "name": "stdout",
          "output_type": "stream",
          "text": [
            "Hands-On Data Analysis with Pandas\n"
          ]
        }
      ],
      "source": [
        "print(book_title)"
      ]
    },
    {
      "cell_type": "markdown",
      "metadata": {
        "id": "TfOYOyBfq_8P"
      },
      "source": [
        "## Collections of Items\n",
        "\n",
        "### Lists\n",
        "We can store a collection of items in a list:"
      ]
    },
    {
      "cell_type": "code",
      "execution_count": null,
      "metadata": {
        "id": "rMjy9zNcq_8P",
        "outputId": "afa96ac0-dcc7-4eec-c480-bcd09e65ec3f"
      },
      "outputs": [
        {
          "data": {
            "text/plain": [
              "['hello', ' ', 'world']"
            ]
          },
          "execution_count": 19,
          "metadata": {},
          "output_type": "execute_result"
        }
      ],
      "source": [
        "['hello', ' ', 'world']"
      ]
    },
    {
      "cell_type": "markdown",
      "metadata": {
        "id": "btzbcf1kq_8Q"
      },
      "source": [
        "The list can be stored in a variable. Note that the items in the list can be of different types:"
      ]
    },
    {
      "cell_type": "code",
      "execution_count": null,
      "metadata": {
        "id": "pIKr3CsAq_8Q",
        "outputId": "2ec5b03d-81ff-4392-dbe5-bcce42140a8e"
      },
      "outputs": [
        {
          "data": {
            "text/plain": [
              "list"
            ]
          },
          "execution_count": 20,
          "metadata": {},
          "output_type": "execute_result"
        }
      ],
      "source": [
        "my_list = ['hello', 3.8, True, 'Python']\n",
        "type(my_list)"
      ]
    },
    {
      "cell_type": "markdown",
      "metadata": {
        "id": "We81mz_oq_8Q"
      },
      "source": [
        "We can see how many elements are in the list with `len()`:"
      ]
    },
    {
      "cell_type": "code",
      "execution_count": null,
      "metadata": {
        "id": "Js73Ogqmq_8Q",
        "outputId": "bba107c2-a124-4a84-afdb-397c30e1f077"
      },
      "outputs": [
        {
          "data": {
            "text/plain": [
              "4"
            ]
          },
          "execution_count": 21,
          "metadata": {},
          "output_type": "execute_result"
        }
      ],
      "source": [
        "len(my_list)"
      ]
    },
    {
      "cell_type": "markdown",
      "metadata": {
        "id": "hkFN503oq_8Q"
      },
      "source": [
        "We can also use the `in` operator to check if a value is in the list:"
      ]
    },
    {
      "cell_type": "code",
      "execution_count": null,
      "metadata": {
        "id": "n-1gSVQQq_8Q",
        "outputId": "f5d6568a-a84c-4fab-c9ec-ef35d8042327"
      },
      "outputs": [
        {
          "data": {
            "text/plain": [
              "False"
            ]
          },
          "execution_count": 22,
          "metadata": {},
          "output_type": "execute_result"
        }
      ],
      "source": [
        "'world' in my_list"
      ]
    },
    {
      "cell_type": "markdown",
      "metadata": {
        "id": "fZC7jtv7q_8W"
      },
      "source": [
        "We can select items in the list just as we did with strings, by providing the index to select:"
      ]
    },
    {
      "cell_type": "code",
      "execution_count": null,
      "metadata": {
        "id": "VDGTYuV7q_8W",
        "outputId": "a41b6b6d-c571-4e48-e45e-a4b568372098"
      },
      "outputs": [
        {
          "data": {
            "text/plain": [
              "3.8"
            ]
          },
          "execution_count": 23,
          "metadata": {},
          "output_type": "execute_result"
        }
      ],
      "source": [
        "my_list[1]"
      ]
    },
    {
      "cell_type": "markdown",
      "metadata": {
        "id": "UJ5W2Zurq_8W"
      },
      "source": [
        "Python also allows us to use negative values, so we can easily select the last one:"
      ]
    },
    {
      "cell_type": "code",
      "execution_count": null,
      "metadata": {
        "id": "O6rCjjLqq_8W",
        "outputId": "9048822b-0762-4353-c95a-d29145b06f80"
      },
      "outputs": [
        {
          "data": {
            "text/plain": [
              "'Python'"
            ]
          },
          "execution_count": 24,
          "metadata": {},
          "output_type": "execute_result"
        }
      ],
      "source": [
        "my_list[-1]"
      ]
    },
    {
      "cell_type": "markdown",
      "metadata": {
        "id": "J4HTSNe7q_8W"
      },
      "source": [
        "Another powerful feature of lists (and strings) is **slicing**. We can grab the middle 2 elements in the list:"
      ]
    },
    {
      "cell_type": "code",
      "execution_count": null,
      "metadata": {
        "id": "J1Fs6iioq_8W",
        "outputId": "95284be6-e6a1-4509-994a-f3b5611cbef4"
      },
      "outputs": [
        {
          "data": {
            "text/plain": [
              "[3.8, True]"
            ]
          },
          "execution_count": 25,
          "metadata": {},
          "output_type": "execute_result"
        }
      ],
      "source": [
        "my_list[1:3]"
      ]
    },
    {
      "cell_type": "markdown",
      "metadata": {
        "id": "NzDVNdYbq_8X"
      },
      "source": [
        "... or every other one:"
      ]
    },
    {
      "cell_type": "code",
      "execution_count": null,
      "metadata": {
        "id": "Kx85YvNVq_8X",
        "outputId": "7701c3ac-66e2-445f-e47b-2ecabd5c549a"
      },
      "outputs": [
        {
          "data": {
            "text/plain": [
              "['hello', True]"
            ]
          },
          "execution_count": 26,
          "metadata": {},
          "output_type": "execute_result"
        }
      ],
      "source": [
        "my_list[::2]"
      ]
    },
    {
      "cell_type": "markdown",
      "metadata": {
        "id": "VlSaBYcxq_8X"
      },
      "source": [
        "We can even select the list in reverse:"
      ]
    },
    {
      "cell_type": "code",
      "execution_count": null,
      "metadata": {
        "id": "FTPqdH4cq_8X",
        "outputId": "c0e4cb91-a85d-455a-f0e1-a24cf57a6a1d"
      },
      "outputs": [
        {
          "data": {
            "text/plain": [
              "['Python', True, 3.8, 'hello']"
            ]
          },
          "execution_count": 27,
          "metadata": {},
          "output_type": "execute_result"
        }
      ],
      "source": [
        "my_list[::-1]"
      ]
    },
    {
      "cell_type": "markdown",
      "metadata": {
        "id": "rI4pZb8Vq_8X"
      },
      "source": [
        "Note: This syntax is `[start:stop:step]` where the selection is inclusive of the start index, but exclusive of the stop index. If `start` isn't provided, `0` is used. If `stop` isn't provided, the number of elements is used (4, in our case); this works because the `stop` is exclusive. If `step` isn't provided, it is 1.\n",
        "\n",
        "We can use the `join()` method on a string object to concatenate all the items of a list into single string. The string we call the `join()` method on will be used as the separator, here we separate with a pipe (|):"
      ]
    },
    {
      "cell_type": "code",
      "execution_count": null,
      "metadata": {
        "id": "ozEroR8Xq_8X",
        "outputId": "e6d435e4-44ee-4997-c47b-dd7742f14f2a"
      },
      "outputs": [
        {
          "data": {
            "text/plain": [
              "'x|y|z'"
            ]
          },
          "execution_count": 28,
          "metadata": {},
          "output_type": "execute_result"
        }
      ],
      "source": [
        "'|'.join(['x', 'y', 'z'])"
      ]
    },
    {
      "cell_type": "markdown",
      "metadata": {
        "id": "zOvn9Qgzq_8Y"
      },
      "source": [
        "### Tuples\n",
        "Tuples are similar to lists; however, they can't be modified after creation i.e. they are **immutable**. Instead of square brackets, we use parenthesis to create tuples:"
      ]
    },
    {
      "cell_type": "code",
      "execution_count": null,
      "metadata": {
        "id": "gkGaGhkcq_8Y",
        "outputId": "9ab5a33a-6c81-4572-ede3-b833bc188bf3"
      },
      "outputs": [
        {
          "data": {
            "text/plain": [
              "tuple"
            ]
          },
          "execution_count": 29,
          "metadata": {},
          "output_type": "execute_result"
        }
      ],
      "source": [
        "my_tuple = ('a', 5)\n",
        "type(my_tuple)"
      ]
    },
    {
      "cell_type": "code",
      "execution_count": null,
      "metadata": {
        "id": "U4XPNHOMq_8Y",
        "outputId": "6bd97523-9e76-4869-f421-8cb0e9ff14f0"
      },
      "outputs": [
        {
          "data": {
            "text/plain": [
              "'a'"
            ]
          },
          "execution_count": 30,
          "metadata": {},
          "output_type": "execute_result"
        }
      ],
      "source": [
        "my_tuple[0]"
      ]
    },
    {
      "cell_type": "markdown",
      "metadata": {
        "id": "BtJKaCEmq_8Y"
      },
      "source": [
        "Immutable objects can't be modified:"
      ]
    },
    {
      "cell_type": "code",
      "execution_count": null,
      "metadata": {
        "id": "wC-oUIQ6q_8Z",
        "outputId": "d4cc5481-468f-4f70-9a4d-c903e1693c84"
      },
      "outputs": [
        {
          "ename": "TypeError",
          "evalue": "'tuple' object does not support item assignment",
          "output_type": "error",
          "traceback": [
            "\u001b[0;31m---------------------------------------------------------------------------\u001b[0m",
            "\u001b[0;31mTypeError\u001b[0m                                 Traceback (most recent call last)",
            "\u001b[0;32m<ipython-input-31-f792d047bcee>\u001b[0m in \u001b[0;36m<module>\u001b[0;34m\u001b[0m\n\u001b[0;32m----> 1\u001b[0;31m \u001b[0mmy_tuple\u001b[0m\u001b[0;34m[\u001b[0m\u001b[0;36m0\u001b[0m\u001b[0;34m]\u001b[0m \u001b[0;34m=\u001b[0m \u001b[0;34m'b'\u001b[0m\u001b[0;34m\u001b[0m\u001b[0;34m\u001b[0m\u001b[0m\n\u001b[0m",
            "\u001b[0;31mTypeError\u001b[0m: 'tuple' object does not support item assignment"
          ]
        }
      ],
      "source": [
        "my_tuple[0] = 'b'"
      ]
    },
    {
      "cell_type": "markdown",
      "metadata": {
        "id": "rTt1vrmvq_8Z"
      },
      "source": [
        "### Dictionaries\n",
        "We can store mappings of key-value pairs using dictionaries:"
      ]
    },
    {
      "cell_type": "code",
      "execution_count": null,
      "metadata": {
        "id": "NVwNDtV7q_8Z",
        "outputId": "fb9a6e23-d4f8-4a4d-c448-079a852ca45e"
      },
      "outputs": [
        {
          "data": {
            "text/plain": [
              "dict"
            ]
          },
          "execution_count": 32,
          "metadata": {},
          "output_type": "execute_result"
        }
      ],
      "source": [
        "shopping_list = {\n",
        "    'veggies': ['spinach', 'kale', 'beets'],\n",
        "    'fruits': 'bananas',\n",
        "    'meat': 0\n",
        "}\n",
        "type(shopping_list)"
      ]
    },
    {
      "cell_type": "markdown",
      "metadata": {
        "id": "nMN6R2KDq_8Z"
      },
      "source": [
        "To access the values associated with a specific key, we use the square bracket notation again:"
      ]
    },
    {
      "cell_type": "code",
      "execution_count": null,
      "metadata": {
        "id": "BgzWiZ_3q_8Z",
        "outputId": "7c45fca0-d6fe-4620-c2ca-c26693a37415"
      },
      "outputs": [
        {
          "data": {
            "text/plain": [
              "['spinach', 'kale', 'beets']"
            ]
          },
          "execution_count": 33,
          "metadata": {},
          "output_type": "execute_result"
        }
      ],
      "source": [
        "shopping_list['veggies']"
      ]
    },
    {
      "cell_type": "markdown",
      "metadata": {
        "id": "AsxMVYkzq_8a"
      },
      "source": [
        "We can extract all of the keys with `keys()`:"
      ]
    },
    {
      "cell_type": "code",
      "execution_count": null,
      "metadata": {
        "id": "CWdH4NcYq_8a",
        "outputId": "cea9ede8-5734-4cc9-f25b-e5a0443320a7"
      },
      "outputs": [
        {
          "data": {
            "text/plain": [
              "dict_keys(['veggies', 'fruits', 'meat'])"
            ]
          },
          "execution_count": 34,
          "metadata": {},
          "output_type": "execute_result"
        }
      ],
      "source": [
        "shopping_list.keys()"
      ]
    },
    {
      "cell_type": "markdown",
      "metadata": {
        "id": "gOcLBBStq_8a"
      },
      "source": [
        "We can extract all of the values with `values()`:"
      ]
    },
    {
      "cell_type": "code",
      "execution_count": null,
      "metadata": {
        "id": "_5erWILGq_8a",
        "outputId": "ee93506e-054c-4c34-bbd8-80618be1a616"
      },
      "outputs": [
        {
          "data": {
            "text/plain": [
              "dict_values([['spinach', 'kale', 'beets'], 'bananas', 0])"
            ]
          },
          "execution_count": 35,
          "metadata": {},
          "output_type": "execute_result"
        }
      ],
      "source": [
        "shopping_list.values()"
      ]
    },
    {
      "cell_type": "markdown",
      "metadata": {
        "id": "_JUSQvfrq_8a"
      },
      "source": [
        "Finally, we can call `items()` to get back pairs of (key, value) pairs:"
      ]
    },
    {
      "cell_type": "code",
      "execution_count": null,
      "metadata": {
        "id": "tBwH3XuTq_8a",
        "outputId": "a5e09222-3c12-40fe-e8b4-8c4283bbbba0"
      },
      "outputs": [
        {
          "data": {
            "text/plain": [
              "dict_items([('veggies', ['spinach', 'kale', 'beets']), ('fruits', 'bananas'), ('meat', 0)])"
            ]
          },
          "execution_count": 36,
          "metadata": {},
          "output_type": "execute_result"
        }
      ],
      "source": [
        "shopping_list.items()"
      ]
    },
    {
      "cell_type": "markdown",
      "metadata": {
        "id": "pWX3R1Ieq_8b"
      },
      "source": [
        "### Sets\n",
        "A set is a collection of unique items; a common use is to remove duplicates from a list. These are written with curly braces also, but notice there is no key-value mapping:"
      ]
    },
    {
      "cell_type": "code",
      "execution_count": null,
      "metadata": {
        "id": "E4UgIXXjq_8b",
        "outputId": "826612af-bafd-44c3-c664-deaf896a54af"
      },
      "outputs": [
        {
          "data": {
            "text/plain": [
              "set"
            ]
          },
          "execution_count": 37,
          "metadata": {},
          "output_type": "execute_result"
        }
      ],
      "source": [
        "my_set = {1, 1, 2, 'a'}\n",
        "type(my_set)"
      ]
    },
    {
      "cell_type": "markdown",
      "metadata": {
        "id": "Wn2dwO75q_8b"
      },
      "source": [
        "How many items are in this set?"
      ]
    },
    {
      "cell_type": "code",
      "execution_count": null,
      "metadata": {
        "id": "aKb98mzTq_8b",
        "outputId": "78687994-3c20-4842-eaef-c9249a8246fe"
      },
      "outputs": [
        {
          "data": {
            "text/plain": [
              "3"
            ]
          },
          "execution_count": 38,
          "metadata": {},
          "output_type": "execute_result"
        }
      ],
      "source": [
        "len(my_set)"
      ]
    },
    {
      "cell_type": "markdown",
      "metadata": {
        "id": "JX1rGvnbq_8b"
      },
      "source": [
        "We put in 4 items but the set only has 3 because duplicates are removed:"
      ]
    },
    {
      "cell_type": "code",
      "execution_count": null,
      "metadata": {
        "id": "7FvqbCIdq_8b",
        "outputId": "a4e43c09-56d1-4f5d-859b-2da8926f004c"
      },
      "outputs": [
        {
          "data": {
            "text/plain": [
              "{1, 2, 'a'}"
            ]
          },
          "execution_count": 39,
          "metadata": {},
          "output_type": "execute_result"
        }
      ],
      "source": [
        "my_set"
      ]
    },
    {
      "cell_type": "markdown",
      "metadata": {
        "id": "qfEncwESq_8b"
      },
      "source": [
        "We can check if a value is in the set:"
      ]
    },
    {
      "cell_type": "code",
      "execution_count": null,
      "metadata": {
        "id": "mdVisNi8q_8c",
        "outputId": "bbf3311c-f34e-4454-99b9-07af62f4718b"
      },
      "outputs": [
        {
          "data": {
            "text/plain": [
              "True"
            ]
          },
          "execution_count": 40,
          "metadata": {},
          "output_type": "execute_result"
        }
      ],
      "source": [
        "2 in my_set"
      ]
    },
    {
      "cell_type": "markdown",
      "metadata": {
        "id": "9ny4vE-nq_8c"
      },
      "source": [
        "## Functions\n",
        "We can define functions to package up our code for reuse. We have already seen some functions: `len()`, `type()`, and `print()`. They are all functions that take **arguments**. Note that functions don't need to accept arguments, in which case they are called without passing in anything (e.g. `print()` versus `print(my_string)`).\n",
        "\n",
        "*Aside: we can also create lists, sets, dictionaries, and tuples with functions: `list()`, `set()`, `dict()`, and `tuple()`*\n",
        "\n",
        "### Defining functions\n",
        "\n",
        "We use the `def` keyword to define functions. Let's create a function called `add()` with 2 parameters, `x` and `y`, which will be the names the code in the function will use to refer to the arguments we pass in when calling it:"
      ]
    },
    {
      "cell_type": "code",
      "execution_count": null,
      "metadata": {
        "id": "fQ0RWCLRq_8c"
      },
      "outputs": [],
      "source": [
        "def add(x, y):\n",
        "    \"\"\"This is a docstring. It is used to explain how the code works and is optional (but encouraged).\"\"\"\n",
        "    # this is a comment; it allows us to annotate the code\n",
        "    print('Performing addition')\n",
        "    return x + y"
      ]
    },
    {
      "cell_type": "markdown",
      "metadata": {
        "id": "VMq-UqZyq_8c"
      },
      "source": [
        "Once we run the code above, our function is ready to use:"
      ]
    },
    {
      "cell_type": "code",
      "execution_count": null,
      "metadata": {
        "id": "uqLH56jUq_8c",
        "outputId": "1b29ea02-6950-4c24-8305-84c7e17c0a58"
      },
      "outputs": [
        {
          "data": {
            "text/plain": [
              "function"
            ]
          },
          "execution_count": 42,
          "metadata": {},
          "output_type": "execute_result"
        }
      ],
      "source": [
        "type(add)"
      ]
    },
    {
      "cell_type": "markdown",
      "metadata": {
        "id": "A3AV38Kkq_8c"
      },
      "source": [
        "Let's add some numbers:"
      ]
    },
    {
      "cell_type": "code",
      "execution_count": null,
      "metadata": {
        "id": "O9NkJgjgq_8d",
        "outputId": "e51d79a7-8989-48e9-eca3-d132bc105e4d"
      },
      "outputs": [
        {
          "name": "stdout",
          "output_type": "stream",
          "text": [
            "Performing addition\n"
          ]
        },
        {
          "data": {
            "text/plain": [
              "3"
            ]
          },
          "execution_count": 43,
          "metadata": {},
          "output_type": "execute_result"
        }
      ],
      "source": [
        "add(1, 2)"
      ]
    },
    {
      "cell_type": "markdown",
      "metadata": {
        "id": "ksmwZIa-q_8d"
      },
      "source": [
        "### Return values\n",
        "We can store the result in a variable for later:"
      ]
    },
    {
      "cell_type": "code",
      "execution_count": null,
      "metadata": {
        "id": "ro0feoe8q_8d",
        "outputId": "9a954e12-c1fb-49cb-b3fa-0c7cb56c2295"
      },
      "outputs": [
        {
          "name": "stdout",
          "output_type": "stream",
          "text": [
            "Performing addition\n"
          ]
        }
      ],
      "source": [
        "result = add(1, 2)"
      ]
    },
    {
      "cell_type": "markdown",
      "metadata": {
        "id": "v5HZONA8q_8d"
      },
      "source": [
        "Notice the print statement wasn't captured in `result`. This variable will only have what the function **returns**. This is what the `return` line in the function definition did:"
      ]
    },
    {
      "cell_type": "code",
      "execution_count": null,
      "metadata": {
        "id": "8b2IdIyeq_8d",
        "outputId": "2bd28f7a-a22a-499e-af40-ca3b8fb36a65"
      },
      "outputs": [
        {
          "data": {
            "text/plain": [
              "3"
            ]
          },
          "execution_count": 45,
          "metadata": {},
          "output_type": "execute_result"
        }
      ],
      "source": [
        "result"
      ]
    },
    {
      "cell_type": "markdown",
      "metadata": {
        "id": "c3OPLqbjq_8d"
      },
      "source": [
        "Note that functions don't have to return anything. Consider `print()`:"
      ]
    },
    {
      "cell_type": "code",
      "execution_count": null,
      "metadata": {
        "id": "WOrXQfkRq_8e",
        "outputId": "c2869aac-1056-4061-f249-31beff8280c6"
      },
      "outputs": [
        {
          "name": "stdout",
          "output_type": "stream",
          "text": [
            "hello world\n"
          ]
        }
      ],
      "source": [
        "print_result = print('hello world')"
      ]
    },
    {
      "cell_type": "markdown",
      "metadata": {
        "id": "bDTonn5fq_8e"
      },
      "source": [
        "If we take a look at what we got back, we see it is a `NoneType` object:"
      ]
    },
    {
      "cell_type": "code",
      "execution_count": null,
      "metadata": {
        "id": "GDRernqgq_8e",
        "outputId": "ffdda9aa-15a0-417e-8027-fa250a445cc9"
      },
      "outputs": [
        {
          "data": {
            "text/plain": [
              "NoneType"
            ]
          },
          "execution_count": 47,
          "metadata": {},
          "output_type": "execute_result"
        }
      ],
      "source": [
        "type(print_result)"
      ]
    },
    {
      "cell_type": "markdown",
      "metadata": {
        "id": "Vrkt7WFDq_8e"
      },
      "source": [
        "In Python, the value `None` represents null values. We can check if our variable *is* `None`:"
      ]
    },
    {
      "cell_type": "code",
      "execution_count": null,
      "metadata": {
        "id": "hAMabXTwq_8e",
        "outputId": "e7c1a82a-ae50-4704-8872-df0fb93bc8aa"
      },
      "outputs": [
        {
          "data": {
            "text/plain": [
              "True"
            ]
          },
          "execution_count": 48,
          "metadata": {},
          "output_type": "execute_result"
        }
      ],
      "source": [
        "print_result is None"
      ]
    },
    {
      "cell_type": "markdown",
      "metadata": {
        "id": "9Ey6ohtrq_8e"
      },
      "source": [
        "*Warning: make sure to use comparison operators (e.g. >, >=, <, <=, ==, !=) to compare to values other than `None`.*\n",
        "\n",
        "### Function arguments\n",
        "\n",
        "*Note that function arguments can be anything, even other functions. We will see several examples of this in the text.*\n",
        "\n",
        "The function we defined requires arguments. If we don't provide them all, it will cause an error:"
      ]
    },
    {
      "cell_type": "code",
      "execution_count": null,
      "metadata": {
        "id": "V6kYSkl1q_8e",
        "outputId": "f52f3d7f-04fa-43cd-897e-30506928972d"
      },
      "outputs": [
        {
          "ename": "TypeError",
          "evalue": "add() missing 1 required positional argument: 'y'",
          "output_type": "error",
          "traceback": [
            "\u001b[0;31m---------------------------------------------------------------------------\u001b[0m",
            "\u001b[0;31mTypeError\u001b[0m                                 Traceback (most recent call last)",
            "\u001b[0;32m<ipython-input-49-2558a051bacf>\u001b[0m in \u001b[0;36m<module>\u001b[0;34m\u001b[0m\n\u001b[0;32m----> 1\u001b[0;31m \u001b[0madd\u001b[0m\u001b[0;34m(\u001b[0m\u001b[0;36m1\u001b[0m\u001b[0;34m)\u001b[0m\u001b[0;34m\u001b[0m\u001b[0;34m\u001b[0m\u001b[0m\n\u001b[0m",
            "\u001b[0;31mTypeError\u001b[0m: add() missing 1 required positional argument: 'y'"
          ]
        }
      ],
      "source": [
        "add(1)"
      ]
    },
    {
      "cell_type": "markdown",
      "metadata": {
        "id": "FHkD9DsLq_8f"
      },
      "source": [
        "We can use `help()` to check what arguments the function needs (notice the docstring ends up here):"
      ]
    },
    {
      "cell_type": "code",
      "execution_count": null,
      "metadata": {
        "id": "yq8FJiffq_8f",
        "outputId": "8956b394-1db1-42ca-97d6-2a51c1ad2d96"
      },
      "outputs": [
        {
          "name": "stdout",
          "output_type": "stream",
          "text": [
            "Help on function add in module __main__:\n",
            "\n",
            "add(x, y)\n",
            "    This is a docstring. It is used to explain how the code works and is optional (but encouraged).\n",
            "\n"
          ]
        }
      ],
      "source": [
        "help(add)"
      ]
    },
    {
      "cell_type": "markdown",
      "metadata": {
        "id": "VKHS2xbKq_8f"
      },
      "source": [
        "We will also get errors if we pass in data types that `add()` can't work with:"
      ]
    },
    {
      "cell_type": "code",
      "execution_count": null,
      "metadata": {
        "id": "UxY2DDdqq_8f",
        "outputId": "2d7d6b8f-a850-4bce-9170-96502a76a73a"
      },
      "outputs": [
        {
          "name": "stdout",
          "output_type": "stream",
          "text": [
            "Performing addition\n"
          ]
        },
        {
          "ename": "TypeError",
          "evalue": "unsupported operand type(s) for +: 'set' and 'set'",
          "output_type": "error",
          "traceback": [
            "\u001b[0;31m---------------------------------------------------------------------------\u001b[0m",
            "\u001b[0;31mTypeError\u001b[0m                                 Traceback (most recent call last)",
            "\u001b[0;32m<ipython-input-51-9c946942295c>\u001b[0m in \u001b[0;36m<module>\u001b[0;34m\u001b[0m\n\u001b[0;32m----> 1\u001b[0;31m \u001b[0madd\u001b[0m\u001b[0;34m(\u001b[0m\u001b[0mset\u001b[0m\u001b[0;34m(\u001b[0m\u001b[0;34m)\u001b[0m\u001b[0;34m,\u001b[0m \u001b[0mset\u001b[0m\u001b[0;34m(\u001b[0m\u001b[0;34m)\u001b[0m\u001b[0;34m)\u001b[0m\u001b[0;34m\u001b[0m\u001b[0;34m\u001b[0m\u001b[0m\n\u001b[0m",
            "\u001b[0;32m<ipython-input-41-e34d07952248>\u001b[0m in \u001b[0;36madd\u001b[0;34m(x, y)\u001b[0m\n\u001b[1;32m      3\u001b[0m     \u001b[0;31m# this is a comment; it allows us to annotate the code\u001b[0m\u001b[0;34m\u001b[0m\u001b[0;34m\u001b[0m\u001b[0;34m\u001b[0m\u001b[0m\n\u001b[1;32m      4\u001b[0m     \u001b[0mprint\u001b[0m\u001b[0;34m(\u001b[0m\u001b[0;34m'Performing addition'\u001b[0m\u001b[0;34m)\u001b[0m\u001b[0;34m\u001b[0m\u001b[0;34m\u001b[0m\u001b[0m\n\u001b[0;32m----> 5\u001b[0;31m     \u001b[0;32mreturn\u001b[0m \u001b[0mx\u001b[0m \u001b[0;34m+\u001b[0m \u001b[0my\u001b[0m\u001b[0;34m\u001b[0m\u001b[0;34m\u001b[0m\u001b[0m\n\u001b[0m",
            "\u001b[0;31mTypeError\u001b[0m: unsupported operand type(s) for +: 'set' and 'set'"
          ]
        }
      ],
      "source": [
        "add(set(), set())"
      ]
    },
    {
      "cell_type": "markdown",
      "metadata": {
        "id": "GDcior34q_8f"
      },
      "source": [
        "We will discuss error handling in the text.\n",
        "\n",
        "## Control Flow Statements\n",
        "Sometimes we want to vary the path the code takes based on some criteria. For this we have `if`, `elif`, and `else`. We can use `if` on its own:"
      ]
    },
    {
      "cell_type": "code",
      "execution_count": null,
      "metadata": {
        "id": "-_hLLyiPq_8f"
      },
      "outputs": [],
      "source": [
        "def make_positive(x):\n",
        "    \"\"\"Returns a positive x\"\"\"\n",
        "    if x < 0:\n",
        "        x *= -1\n",
        "    return x"
      ]
    },
    {
      "cell_type": "markdown",
      "metadata": {
        "id": "-GUJBFyUq_8g"
      },
      "source": [
        "Calling this function with negative input causes the code under the `if` statement to run:"
      ]
    },
    {
      "cell_type": "code",
      "execution_count": null,
      "metadata": {
        "id": "wPhStW-wq_8g",
        "outputId": "9c90d41d-afa5-47ea-d6ad-ae52968ad2d9"
      },
      "outputs": [
        {
          "data": {
            "text/plain": [
              "1"
            ]
          },
          "execution_count": 53,
          "metadata": {},
          "output_type": "execute_result"
        }
      ],
      "source": [
        "make_positive(-1)"
      ]
    },
    {
      "cell_type": "markdown",
      "metadata": {
        "id": "hK9Ml-qoq_8g"
      },
      "source": [
        "Calling this function with positive input skips the code under the `if` statement, keeping the number positive:"
      ]
    },
    {
      "cell_type": "code",
      "execution_count": null,
      "metadata": {
        "id": "FtPRXnCZq_8g",
        "outputId": "aeeaacda-c5c8-4395-b9fa-235bde8b35cb"
      },
      "outputs": [
        {
          "data": {
            "text/plain": [
              "2"
            ]
          },
          "execution_count": 54,
          "metadata": {},
          "output_type": "execute_result"
        }
      ],
      "source": [
        "make_positive(2)"
      ]
    },
    {
      "cell_type": "markdown",
      "metadata": {
        "id": "FiELFLfLq_8g"
      },
      "source": [
        "Sometimes we need an `else` statement as well:"
      ]
    },
    {
      "cell_type": "code",
      "execution_count": null,
      "metadata": {
        "id": "J4VuSJ39q_8g"
      },
      "outputs": [],
      "source": [
        "def add_or_subtract(operation, x, y):\n",
        "    if operation == 'add':\n",
        "        return x + y\n",
        "    else:\n",
        "        return x - y"
      ]
    },
    {
      "cell_type": "markdown",
      "metadata": {
        "id": "GciFTheRq_8g"
      },
      "source": [
        "This triggers the code under the `if` statement:"
      ]
    },
    {
      "cell_type": "code",
      "execution_count": null,
      "metadata": {
        "id": "wmT-9IQsq_8h",
        "outputId": "be998805-7f7e-45f4-add3-e9a7ac771176"
      },
      "outputs": [
        {
          "data": {
            "text/plain": [
              "3"
            ]
          },
          "execution_count": 56,
          "metadata": {},
          "output_type": "execute_result"
        }
      ],
      "source": [
        "add_or_subtract('add', 1, 2)"
      ]
    },
    {
      "cell_type": "markdown",
      "metadata": {
        "id": "LjRjFAKNq_8h"
      },
      "source": [
        "Since the Boolean check in the `if` statement was `False`, this triggers the code under the `else` statement:"
      ]
    },
    {
      "cell_type": "code",
      "execution_count": null,
      "metadata": {
        "id": "PsDmbq5Iq_8h",
        "outputId": "5c1b26a9-cf77-4387-f2f8-8f21abdb2ca9"
      },
      "outputs": [
        {
          "data": {
            "text/plain": [
              "-1"
            ]
          },
          "execution_count": 57,
          "metadata": {},
          "output_type": "execute_result"
        }
      ],
      "source": [
        "add_or_subtract('subtract', 1, 2)"
      ]
    },
    {
      "cell_type": "markdown",
      "metadata": {
        "id": "3fWEF1tgq_8h"
      },
      "source": [
        "For more complicated logic, we can also use `elif`. We can have any number of `elif` statements. Optionally, we can include `else`."
      ]
    },
    {
      "cell_type": "code",
      "execution_count": null,
      "metadata": {
        "id": "d8U3WzACq_8h"
      },
      "outputs": [],
      "source": [
        "def calculate(operation, x, y):\n",
        "    if operation == 'add':\n",
        "        return x + y\n",
        "    elif operation == 'subtract':\n",
        "        return x - y\n",
        "    elif operation == 'multiply':\n",
        "        return x * y\n",
        "    elif operation == 'division':\n",
        "        return x / y\n",
        "    else:\n",
        "        print(\"This case hasn't been handled\")"
      ]
    },
    {
      "cell_type": "markdown",
      "metadata": {
        "id": "UcXhdvVJq_8h"
      },
      "source": [
        "The code keeps checking the conditions in the `if` statements from top to bottom until it finds `multiply`:"
      ]
    },
    {
      "cell_type": "code",
      "execution_count": null,
      "metadata": {
        "id": "DrW8hIHDq_8i",
        "outputId": "5218d861-6816-4452-8ef4-78371f94fbb3"
      },
      "outputs": [
        {
          "data": {
            "text/plain": [
              "12"
            ]
          },
          "execution_count": 59,
          "metadata": {},
          "output_type": "execute_result"
        }
      ],
      "source": [
        "calculate('multiply', 3, 4)"
      ]
    },
    {
      "cell_type": "markdown",
      "metadata": {
        "id": "B1rO5U_lq_8i"
      },
      "source": [
        "The code keeps checking the conditions in the `if` statements from top to bottom until it hits the `else` statement:"
      ]
    },
    {
      "cell_type": "code",
      "execution_count": null,
      "metadata": {
        "id": "5ox3PAmtq_8i",
        "outputId": "0e95a7e5-4faa-427a-d16f-1ee7e288a51b"
      },
      "outputs": [
        {
          "name": "stdout",
          "output_type": "stream",
          "text": [
            "This case hasn't been handled\n"
          ]
        }
      ],
      "source": [
        "calculate('power', 3, 4)"
      ]
    },
    {
      "cell_type": "markdown",
      "metadata": {
        "id": "DDrGIMQnq_8i"
      },
      "source": [
        "## Loops\n",
        "### `while` loops\n",
        "With `while` loops, we can keep running code until some stopping condition is met:"
      ]
    },
    {
      "cell_type": "code",
      "execution_count": null,
      "metadata": {
        "id": "Ba451f8Aq_8i",
        "outputId": "a8069458-76d1-4e58-9909-94524daef4d9"
      },
      "outputs": [
        {
          "name": "stdout",
          "output_type": "stream",
          "text": [
            "Still going... 2\n",
            "Still going... 4\n",
            "Still going... 8\n"
          ]
        }
      ],
      "source": [
        "done = False\n",
        "value = 2\n",
        "while not done:\n",
        "    print('Still going...', value)\n",
        "    value *= 2\n",
        "    if value > 10:\n",
        "        done = True"
      ]
    },
    {
      "cell_type": "markdown",
      "metadata": {
        "id": "313Uwg1mq_8i"
      },
      "source": [
        "Note this can also be written as, by moving the condition to the `while` statement:"
      ]
    },
    {
      "cell_type": "code",
      "execution_count": null,
      "metadata": {
        "id": "HSk_tJyxq_8i",
        "outputId": "8a1348ae-5086-430a-92f3-8b9a21b1770b"
      },
      "outputs": [
        {
          "name": "stdout",
          "output_type": "stream",
          "text": [
            "Still going... 2\n",
            "Still going... 4\n",
            "Still going... 8\n"
          ]
        }
      ],
      "source": [
        "value = 2\n",
        "while value < 10:\n",
        "    print('Still going...', value)\n",
        "    value *= 2"
      ]
    },
    {
      "cell_type": "markdown",
      "metadata": {
        "id": "YxuU68wkq_8j"
      },
      "source": [
        "### `for` loops\n",
        "With `for` loops, we can run our code *for each* element in a collection:"
      ]
    },
    {
      "cell_type": "code",
      "execution_count": null,
      "metadata": {
        "id": "rGkDguddq_8j",
        "outputId": "5979a22c-4c99-4d55-eb30-347509dc31e4"
      },
      "outputs": [
        {
          "name": "stdout",
          "output_type": "stream",
          "text": [
            "0\n",
            "1\n",
            "2\n",
            "3\n",
            "4\n"
          ]
        }
      ],
      "source": [
        "for i in range(5):\n",
        "    print(i)"
      ]
    },
    {
      "cell_type": "markdown",
      "metadata": {
        "id": "9KaGVYPsq_8j"
      },
      "source": [
        "We can use `for` loops with lists, tuples, sets, and dictionaries as well:"
      ]
    },
    {
      "cell_type": "code",
      "execution_count": null,
      "metadata": {
        "id": "AQf6yM6aq_8j",
        "outputId": "af4660fb-5365-4d6e-99ec-b6b79ae1430f"
      },
      "outputs": [
        {
          "name": "stdout",
          "output_type": "stream",
          "text": [
            "hello\n",
            "3.8\n",
            "True\n",
            "Python\n"
          ]
        }
      ],
      "source": [
        "for element in my_list:\n",
        "    print(element)"
      ]
    },
    {
      "cell_type": "code",
      "execution_count": null,
      "metadata": {
        "id": "nB3ehIP-q_8j",
        "outputId": "e828f40e-ba08-4425-b9ef-b087f219d407"
      },
      "outputs": [
        {
          "name": "stdout",
          "output_type": "stream",
          "text": [
            "For veggies we need to buy ['spinach', 'kale', 'beets']\n",
            "For fruits we need to buy bananas\n",
            "For meat we need to buy 0\n"
          ]
        }
      ],
      "source": [
        "for key, value in shopping_list.items():\n",
        "    print('For', key, 'we need to buy', value)"
      ]
    },
    {
      "cell_type": "markdown",
      "metadata": {
        "id": "b8wqPsNvq_8j"
      },
      "source": [
        "With `for` loops, we don't have to worry about checking if we have reached the stopping condition. Conversely, `while` loops can cause infinite loops if we don't remember to update variables.\n",
        "\n",
        "## Imports\n",
        "We have been working with the portion of Python that is available without importing additional functionality. The Python standard library that comes with the install of Python is broken up into several **modules**, but we often only need a few. We can import whatever we need: a module in the standard library, a 3rd-party library, or code that we wrote. This is done with an `import` statement:"
      ]
    },
    {
      "cell_type": "code",
      "execution_count": null,
      "metadata": {
        "id": "THS9sUh8q_8k",
        "outputId": "b5d87203-6873-4885-e0e2-8a581730e6b8"
      },
      "outputs": [
        {
          "name": "stdout",
          "output_type": "stream",
          "text": [
            "3.141592653589793\n"
          ]
        }
      ],
      "source": [
        "import math\n",
        "\n",
        "print(math.pi)"
      ]
    },
    {
      "cell_type": "markdown",
      "metadata": {
        "id": "ZpPcPRc0q_8k"
      },
      "source": [
        "If we only need a small piece from that module, we can do the following instead:"
      ]
    },
    {
      "cell_type": "code",
      "execution_count": null,
      "metadata": {
        "id": "QEpGWXQXq_8k",
        "outputId": "9d5a8fc7-1d74-4408-eaf3-4483d1f99901"
      },
      "outputs": [
        {
          "name": "stdout",
          "output_type": "stream",
          "text": [
            "3.141592653589793\n"
          ]
        }
      ],
      "source": [
        "from math import pi\n",
        "\n",
        "print(pi)"
      ]
    },
    {
      "cell_type": "markdown",
      "metadata": {
        "id": "0Kjsd0AVq_8k"
      },
      "source": [
        "*Warning: anything you import is added to the namespace, so if you create a new variable/function/etc. with the same name it will overwrite the previous value. For this reason, we have to be careful with variable names e.g. if you name something `sum`, you won't be able to add using the `sum()` built-in function anymore. Using notebooks or an IDE will help you avoid these issues with syntax highlighting.*\n",
        "\n",
        "## Installing 3rd-party Packages\n",
        "**NOTE: We will cover the environment setup in the text; this is for reference.**\n",
        "\n",
        "We can use [`pip`](https://pip.pypa.io/en/stable/reference/) or [`conda`](https://docs.conda.io/projects/conda/en/latest/commands.html) to install packages, depending on how we created our virtual environment. The text walks through the commands to create virtual environments with `venv` and `conda`. The environment **MUST** be activated before installing the packages for this text; otherwise, it's possible they interfere with other projects on your machine or vice versa.\n",
        "\n",
        "To install a package, we can use `pip3 install <package_name>`. Optionally, we can provide a specific version to install `pip3 install pandas==0.23.4`. Without that specification, we will get the most stable version. When we have many packages to install (as we do for this book), we will typically use a `requirements.txt` file: `pip3 install -r requirements.txt`.\n",
        "\n",
        "*Note: running `pip3 freeze > requirements.txt` will send the list of packages installed in the activate environment and their respective versions to the `requirements.txt` file.*\n",
        "\n",
        "\n",
        "## Classes\n",
        "*NOTE: We will discuss this further in the text in chapter 7. For now, it is important to be aware of the syntax in this section.*\n",
        "\n",
        "So far we have used Python as a functional programming language, but we also have the option to use it for **object-oriented programming**. You can think of a `class` as a way to group similar functionality together. Let's create a calculator class which can handle mathematical operations for us. For this, we use the `class` keyword and define **methods** for taking actions on the calculator. These methods are functions that take `self` as the first argument. When calling them, we don't pass in anything for that argument (example after this):"
      ]
    },
    {
      "cell_type": "code",
      "execution_count": null,
      "metadata": {
        "id": "plFNGvNJq_8k"
      },
      "outputs": [],
      "source": [
        "class Calculator:\n",
        "    \"\"\"This is the class docstring.\"\"\"\n",
        "\n",
        "    def __init__(self):\n",
        "        \"\"\"This is a method and it is called when we create an object of type `Calculator`.\"\"\"\n",
        "        self.on = False\n",
        "\n",
        "    def turn_on(self):\n",
        "        \"\"\"This method turns on the calculator.\"\"\"\n",
        "        self.on = True\n",
        "\n",
        "    def add(self, x, y):\n",
        "        \"\"\"Perform addition if calculator is on\"\"\"\n",
        "        if self.on:\n",
        "            return x + y\n",
        "        else:\n",
        "            print('the calculator is not on')"
      ]
    },
    {
      "cell_type": "markdown",
      "metadata": {
        "id": "LLopjBgFq_8l"
      },
      "source": [
        "In order to use the calculator, we need to **instantiate** an instance or object of type `Calculator`. Since the `__init__()` method has no parameters other than `self`, we don't need to provide anything:"
      ]
    },
    {
      "cell_type": "code",
      "execution_count": null,
      "metadata": {
        "id": "vN3vmPqCq_8l"
      },
      "outputs": [],
      "source": [
        "my_calculator = Calculator()"
      ]
    },
    {
      "cell_type": "markdown",
      "metadata": {
        "id": "DKy_88rrq_8l"
      },
      "source": [
        "Let's try to add some numbers:"
      ]
    },
    {
      "cell_type": "code",
      "execution_count": null,
      "metadata": {
        "id": "psYkUX9uq_8l",
        "outputId": "8b580e4d-f662-4a14-df97-9d786672b344"
      },
      "outputs": [
        {
          "name": "stdout",
          "output_type": "stream",
          "text": [
            "the calculator is not on\n"
          ]
        }
      ],
      "source": [
        "my_calculator.add(1, 2)"
      ]
    },
    {
      "cell_type": "markdown",
      "metadata": {
        "id": "iH1gErBSq_8l"
      },
      "source": [
        "Oops!! The calculator is not on. Let's turn it on:"
      ]
    },
    {
      "cell_type": "code",
      "execution_count": null,
      "metadata": {
        "id": "OgK_IvlQq_8l"
      },
      "outputs": [],
      "source": [
        "my_calculator.turn_on()"
      ]
    },
    {
      "cell_type": "markdown",
      "metadata": {
        "id": "frnnQ1lBq_8l"
      },
      "source": [
        "Let's try again:"
      ]
    },
    {
      "cell_type": "code",
      "execution_count": null,
      "metadata": {
        "id": "UzLuPA1sq_8r",
        "outputId": "d34e75a2-e578-4a04-c1c4-9a497bf5eccd"
      },
      "outputs": [
        {
          "data": {
            "text/plain": [
              "3"
            ]
          },
          "execution_count": 72,
          "metadata": {},
          "output_type": "execute_result"
        }
      ],
      "source": [
        "my_calculator.add(1, 2)"
      ]
    },
    {
      "cell_type": "markdown",
      "metadata": {
        "id": "clHq0Hc2q_8r"
      },
      "source": [
        "We can access **attributes** on object with dot notation. In this example, the only attribute is `on`, and it is set in the `__init__()` method:"
      ]
    },
    {
      "cell_type": "code",
      "execution_count": null,
      "metadata": {
        "id": "c7Q-2TGpq_8r",
        "outputId": "7d4132df-4929-4186-cd6e-64464416bb91"
      },
      "outputs": [
        {
          "data": {
            "text/plain": [
              "True"
            ]
          },
          "execution_count": 73,
          "metadata": {},
          "output_type": "execute_result"
        }
      ],
      "source": [
        "my_calculator.on"
      ]
    },
    {
      "cell_type": "markdown",
      "metadata": {
        "id": "d5UmTBm3q_8r"
      },
      "source": [
        "Note that we can also update attributes:"
      ]
    },
    {
      "cell_type": "code",
      "execution_count": null,
      "metadata": {
        "id": "o_bPHslAq_8r",
        "outputId": "2410192b-c907-47fb-b254-33dfffd8e167"
      },
      "outputs": [
        {
          "name": "stdout",
          "output_type": "stream",
          "text": [
            "the calculator is not on\n"
          ]
        }
      ],
      "source": [
        "my_calculator.on = False\n",
        "my_calculator.add(1, 2)"
      ]
    },
    {
      "cell_type": "markdown",
      "metadata": {
        "id": "2z_PRx1tq_8s"
      },
      "source": [
        "Finally, we can use `help()` to get more information on the object:"
      ]
    },
    {
      "cell_type": "code",
      "execution_count": null,
      "metadata": {
        "id": "RLlTxUkHq_8s",
        "outputId": "aa4a6bdd-fd57-4e7a-b9ad-68b19af4cecc"
      },
      "outputs": [
        {
          "name": "stdout",
          "output_type": "stream",
          "text": [
            "Help on Calculator in module __main__ object:\n",
            "\n",
            "class Calculator(builtins.object)\n",
            " |  This is the class docstring.\n",
            " |  \n",
            " |  Methods defined here:\n",
            " |  \n",
            " |  __init__(self)\n",
            " |      This is a method and it is called when we create an object of type `Calculator`.\n",
            " |  \n",
            " |  add(self, x, y)\n",
            " |      Perform addition if calculator is on\n",
            " |  \n",
            " |  turn_on(self)\n",
            " |      This method turns on the calculator.\n",
            " |  \n",
            " |  ----------------------------------------------------------------------\n",
            " |  Data descriptors defined here:\n",
            " |  \n",
            " |  __dict__\n",
            " |      dictionary for instance variables (if defined)\n",
            " |  \n",
            " |  __weakref__\n",
            " |      list of weak references to the object (if defined)\n",
            "\n"
          ]
        }
      ],
      "source": [
        "help(my_calculator)"
      ]
    },
    {
      "cell_type": "markdown",
      "metadata": {
        "id": "wSkjEte6q_8s"
      },
      "source": [
        "... and also for a method:"
      ]
    },
    {
      "cell_type": "code",
      "execution_count": null,
      "metadata": {
        "id": "Yw24Zm6Qq_8s",
        "outputId": "f29116ef-f31a-4cb4-da7e-8e52759a414f"
      },
      "outputs": [
        {
          "name": "stdout",
          "output_type": "stream",
          "text": [
            "Help on method add in module __main__:\n",
            "\n",
            "add(x, y) method of __main__.Calculator instance\n",
            "    Perform addition if calculator is on\n",
            "\n"
          ]
        }
      ],
      "source": [
        "help(my_calculator.add)"
      ]
    },
    {
      "cell_type": "markdown",
      "metadata": {
        "id": "5aXbA2Mmq_8s"
      },
      "source": [
        "## Next Steps\n",
        "This was a crash course in Python. By no means are you expected to be an expert in the language to start working through the text. Take some time to play around with this notebook before trying [this chapter's exercises](./exercises.ipynb).\n",
        "\n",
        "<hr>\n",
        "<div style=\"overflow: hidden; margin-bottom: 10px;\">\n",
        "    <div style=\"float: left;\">\n",
        "         <a href=\"./introduction_to_data_analysis.ipynb\">\n",
        "            <button>&#8592; Introduction to Data Analysis</button>\n",
        "        </a>\n",
        "    </div>\n",
        "    <div style=\"float: right;\">\n",
        "        <a href=\"./check_your_setup.ipynb\">\n",
        "            <button>Check your Setup</button>\n",
        "        </a>\n",
        "        <a href=\"./exercises.ipynb\">\n",
        "            <button>Chapter 1 Exercises &#8594;</button>\n",
        "        </a>\n",
        "    </div>\n",
        "</div>\n",
        "<hr>"
      ]
    }
  ],
  "metadata": {
    "kernelspec": {
      "display_name": "Python 3",
      "language": "python",
      "name": "python3"
    },
    "language_info": {
      "codemirror_mode": {
        "name": "ipython",
        "version": 3
      },
      "file_extension": ".py",
      "mimetype": "text/x-python",
      "name": "python",
      "nbconvert_exporter": "python",
      "pygments_lexer": "ipython3",
      "version": "3.7.3"
    },
    "colab": {
      "provenance": [],
      "include_colab_link": true
    }
  },
  "nbformat": 4,
  "nbformat_minor": 0
}